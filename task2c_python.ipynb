{
 "cells": [
  {
   "cell_type": "markdown",
   "metadata": {},
   "source": [
    "# NA 568 Mobile Robotics: Methods & Algorithms Winter 2021 -- Homework 1 -- Preliminaries (Task 2 c in Python)\n",
    "\n",
    "University of Michigan\\\n",
    "January 19, 2021"
   ]
  },
  {
   "cell_type": "markdown",
   "metadata": {},
   "source": [
    "# Task 2 C. (10 pts) \n",
    "Consider a robot that resides in a circular world consisting of ten different places that are numbered counterclockwise.  The robot is unable to sense the number of its present place directly. However, places 0, 3, and 6 contain a distinct landmark, whereas all other places do not.  All three of these landmarks look alike.  The likelihood that the robot observes the landmark given it is in one of these places is 0.8.  For all other places, the likelihood of observing the landmark is 0.4.\n",
    "\n",
    "For each place on the circle we wish compute the probability that the robot is in that place given that the following sequence of actions is carried out deterministically and the following sequence of observations is obtained: The robot detects a landmark, moves 3 grid cells counterclockwise and detects a landmark, and then moves 4 grid cells counterclockwise and finally perceives no landmark.\n",
    "\n",
    "Implement the circular world described above using a discrete Bayes filter in Matlab/Python/Julia to numerically arrive at the desired belief and report your result in the PDF."
   ]
  },
  {
   "cell_type": "code",
   "execution_count": 2,
   "metadata": {},
   "outputs": [],
   "source": [
    "import numpy as np\n",
    "import matplotlib.pyplot as plt\n",
    "\n",
    "# colors\n",
    "green = np.array([0.2980, 0.6, 0])\n",
    "darkblue = np.array([0, 0.2, 0.4])\n",
    "VermillionRed = np.array([156, 31, 46]) / 255\n",
    "\n",
    "def plot_fuction(prior_belief, prediction, posterior_belief):\n",
    "    \"\"\"\n",
    "    plot prior belief, prediction after action, and posterior belief after measurement\n",
    "    \"\"\"    \n",
    "    fig = plt.figure()\n",
    "    \n",
    "    # plot prior belief\n",
    "    ax1 = plt.subplot(311)\n",
    "    plt.bar(np.arange(0,10), prior_belief.reshape(-1), color=darkblue)\n",
    "    plt.title(r'Prior Belief')\n",
    "    plt.ylim(0, 1)\n",
    "    plt.ylabel(r'$bel(x_{t-1})$')\n",
    "\n",
    "    # plot likelihood\n",
    "    ax2 = plt.subplot(312)\n",
    "    plt.bar(np.arange(0,10), prediction.reshape(-1), color=green)\n",
    "    plt.title(r'Prediction After Action')\n",
    "    plt.ylim(0, 1)\n",
    "    plt.ylabel(r'$\\overline{bel(x_t})}$')\n",
    "\n",
    "    # plot posterior belief\n",
    "    ax3 = plt.subplot(313)\n",
    "    plt.bar(np.arange(0,10), posterior_belief.reshape(-1), color=VermillionRed)\n",
    "    plt.title(r'Posterior Belief After Measurement')\n",
    "    plt.ylim(0, 1)\n",
    "    plt.ylabel(r'$bel(x_t})$')\n",
    "\n",
    "    plt.show()"
   ]
  },
  {
   "cell_type": "code",
   "execution_count": 3,
   "metadata": {},
   "outputs": [
    {
     "name": "stdout",
     "output_type": "stream",
     "text": [
      "belief state     probability\n",
      "     0              0.100\n",
      "\n",
      "     1              0.075\n",
      "\n",
      "     2              0.075\n",
      "\n",
      "     3              0.050\n",
      "\n",
      "     4              0.150\n",
      "\n",
      "     5              0.075\n",
      "\n",
      "     6              0.025\n",
      "\n",
      "     7              0.300\n",
      "\n",
      "     8              0.075\n",
      "\n",
      "     9              0.075\n",
      "\n"
     ]
    },
    {
     "data": {
      "image/png": "[encoded data removed]",
      "text/plain": [
       "<Figure size 432x288 with 1 Axes>"
      ]
     },
     "metadata": {
      "needs_background": "light"
     },
     "output_type": "display_data"
    }
   ],
   "source": [
    "import numpy as np\n",
    "import matplotlib.pyplot as plt\n",
    "\n",
    "# Bayes Filter Problem\n",
    "\"\"\"\n",
    "Follow steps of Bayes filter.  \n",
    "You can use the plot_fuction() above to help you check the belief in each step.\n",
    "Please print out the final answer.\n",
    "\"\"\"\n",
    "belief = 0.1 * np.ones(10)\n",
    "#############################################################################\n",
    "#                    TODO: Implement your code here                         #\n",
    "#############################################################################\n",
    "u = [0,3,4]\n",
    "states = np.arange(0,10,1)\n",
    "\n",
    "z = [1,1,0]\n",
    "bel_predicted = np.zeros(len(states))\n",
    "belief_tmp = 0.1*np.ones(10)\n",
    "#motion model: check if the difference between current state and prior state is equal to \n",
    "#input command\n",
    "def motion(x,y,u): \n",
    "#     if x+u >10:\n",
    "#         d = x+u - 10\n",
    "#     else:\n",
    "#         d = x+u\n",
    "    \n",
    "#     if d == y:\n",
    "#         p =1\n",
    "#     else:\n",
    "#         p=0\n",
    "    return int((x+u)%10==y)\n",
    "\n",
    "def measurement(z,x):  #this function returns the sensor measurement: z- landmarks, x: current state\n",
    "    if x in [0,3,6]:\n",
    "        x = 1\n",
    "    else:\n",
    "        x= 0\n",
    "        \n",
    "    if z and x:\n",
    "        return 0.8\n",
    "    elif z and not x:\n",
    "        return 0.4\n",
    "    elif x and not z:\n",
    "        return 0.2\n",
    "    else:\n",
    "        return 0.6\n",
    "    \n",
    "\n",
    "for i in range(len(u)):\n",
    "    for current in range(len(states)): #for all kinds of states possible, here we have 10 differnet possible states\n",
    "        bel_predicted[current] = 0\n",
    "        for prior in range(len(states)): #every state(above loop) with every other state(this loop)\n",
    "            bel_predicted[current] = bel_predicted[current] + motion(states[prior], states[current], u[i])*belief_tmp[prior] #probabilities that robot is in current state, given all the other prior states and command\n",
    "          \n",
    "        belief[current] = bel_predicted[current]* measurement(z[i], states[current])\n",
    "\n",
    "        \n",
    "    eta = 1/sum(belief)\n",
    "    belief = np.multiply(belief, eta) \n",
    "    belief_tmp = np.copy(belief)\n",
    "\n",
    "        \n",
    "\n",
    "\n",
    "#############################################################################\n",
    "#                            END OF YOUR CODE                               #\n",
    "#############################################################################\n",
    "plt.bar(np.arange(0,10), belief)\n",
    "\n",
    "print(\"belief state     probability\")\n",
    "for i in range(10):\n",
    "    print(\"%6d %18.3f\\n\" % (i, belief[i]))"
   ]
  },
  {
   "cell_type": "code",
   "execution_count": null,
   "metadata": {},
   "outputs": [],
   "source": []
  },
  {
   "cell_type": "code",
   "execution_count": null,
   "metadata": {},
   "outputs": [],
   "source": []
  }
 ],
 "metadata": {
  "kernelspec": {
   "display_name": "Python 3",
   "language": "python",
   "name": "python3"
  },
  "language_info": {
   "codemirror_mode": {
    "name": "ipython",
    "version": 3
   },
   "file_extension": ".py",
   "mimetype": "text/x-python",
   "name": "python",
   "nbconvert_exporter": "python",
   "pygments_lexer": "ipython3",
   "version": "3.7.4"
  }
 },
 "nbformat": 4,
 "nbformat_minor": 4
}
